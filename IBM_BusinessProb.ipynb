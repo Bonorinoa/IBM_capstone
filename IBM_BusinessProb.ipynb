{
    "cells": [
        {
            "cell_type": "markdown",
            "metadata": {
                "collapsed": true
            },
            "source": "# IBM capstone business problem"
        },
        {
            "cell_type": "markdown",
            "metadata": {},
            "source": "### *In the following paragraph I will describe the business issue I am attempting to solve*"
        },
        {
            "cell_type": "markdown",
            "metadata": {},
            "source": "In the city of San Fracisco, after a certain hour, danger increases in some areas. These areas have been labeled as high crime rate zones or dangerous areas at night and I believe both people (customers) and business owners could probably informed beforehand of this if trying to open a business or maybe practice tourism around those areas. Tourists usually are not aware of dangerous neighborhoods or areas like locals are. Same goes for the entrepreneur who moves to a different city (in this case San Francisco but could potentially be implemented on numerous cities) or country seeking better opportunities to start a business. Using a dataset of crime rates in San Fracisco plus the foursquare API to map cafes/restaurants/nightclubs/bars I will plot both datasets. That could be used by business owners for three things:\n- Locate areas of low business density to identify a proper location to set up their business.\n- Be aware of the crime rates on such area beforehand and organize their business accordingly to prevent an undesired event.\n- Publish on their profile how safe their store is to gain customers confidence.\nAnd it could be helpful for tourists or potential customers for the following:\n- Analyze the crime rates of an area and prepare accordingly before going to visit such location. \n- Get information about how the business, say nightclub, is prepared."
        },
        {
            "cell_type": "code",
            "execution_count": null,
            "metadata": {},
            "outputs": [],
            "source": ""
        }
    ],
    "metadata": {
        "kernelspec": {
            "display_name": "Python 3.6",
            "language": "python",
            "name": "python3"
        },
        "language_info": {
            "codemirror_mode": {
                "name": "ipython",
                "version": 3
            },
            "file_extension": ".py",
            "mimetype": "text/x-python",
            "name": "python",
            "nbconvert_exporter": "python",
            "pygments_lexer": "ipython3",
            "version": "3.6.9"
        }
    },
    "nbformat": 4,
    "nbformat_minor": 1
}