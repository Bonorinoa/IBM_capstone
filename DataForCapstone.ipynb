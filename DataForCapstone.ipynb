{
    "cells": [
        {
            "cell_type": "markdown",
            "metadata": {
                "collapsed": true
            },
            "source": "# Data to be used for the IBM capstone project"
        },
        {
            "cell_type": "markdown",
            "metadata": {},
            "source": "### *The following paragraph describes the datasets which will be used on the IBM capstone project*"
        },
        {
            "cell_type": "markdown",
            "metadata": {},
            "source": "To plot the choropleth map with the boundaries of the different neighborhoods in San Francisco I will use the following [san-francisco.geojson](https://cocl.us/sanfran_geojson) file. The data about the number of crimes per neighborhood in San Francisco is obtained from the following csv file [CrimeRateSanFrancisco.csv](https://cocl.us/sanfran_crime_dataset). Finally, to be able to plot the location of the businesses in San Francisco I will use the Foursquare places API. For better understading on what Foursquare is I attach the link to the product page [Foursquare_places](https://enterprise.foursquare.com/products/places) and to its main page [Foursquare.com](https://foursquare.com/)."
        },
        {
            "cell_type": "code",
            "execution_count": null,
            "metadata": {},
            "outputs": [],
            "source": ""
        }
    ],
    "metadata": {
        "kernelspec": {
            "display_name": "Python 3.6",
            "language": "python",
            "name": "python3"
        },
        "language_info": {
            "codemirror_mode": {
                "name": "ipython",
                "version": 3
            },
            "file_extension": ".py",
            "mimetype": "text/x-python",
            "name": "python",
            "nbconvert_exporter": "python",
            "pygments_lexer": "ipython3",
            "version": "3.6.9"
        }
    },
    "nbformat": 4,
    "nbformat_minor": 1
}